{
  "cells": [
    {
      "cell_type": "markdown",
      "metadata": {
        "id": "view-in-github",
        "colab_type": "text"
      },
      "source": [
        "<a href=\"https://colab.research.google.com/github/swarubm/ML-ALGORITHMS/blob/main/XG%20Boosting%20.ipynb\" target=\"_parent\"><img src=\"https://colab.research.google.com/assets/colab-badge.svg\" alt=\"Open In Colab\"/></a>"
      ]
    },
    {
      "cell_type": "code",
      "source": [
        "import pandas as pd\n",
        "import numpy as np\n",
        "import seaborn as sns\n",
        "import matplotlib.pyplot as plt\n",
        "import xgboost as xgb\n",
        "from sklearn.datasets import fetch_california_housing\n",
        "from sklearn.model_selection import train_test_split, GridSearchCV\n",
        "from sklearn.metrics import mean_squared_error\n",
        "from sklearn.ensemble import RandomForestRegressor, GradientBoostingRegressor\n",
        "import warnings\n",
        "\n",
        "# Ignore warnings\n",
        "warnings.filterwarnings(\"ignore\", category=DeprecationWarning)"
      ],
      "metadata": {
        "id": "6KU1wHPa9EMb"
      },
      "execution_count": 1,
      "outputs": []
    },
    {
      "cell_type": "code",
      "source": [
        "california_housing = fetch_california_housing()\n",
        "X, y = california_housing.data, california_housing.target"
      ],
      "metadata": {
        "id": "ravokdV-9IIq"
      },
      "execution_count": 2,
      "outputs": []
    },
    {
      "cell_type": "code",
      "source": [
        "X_train, X_test, y_train, y_test = train_test_split(X, y, test_size=0.2, random_state=42)"
      ],
      "metadata": {
        "id": "_pZK4TUL9K5q"
      },
      "execution_count": 3,
      "outputs": []
    },
    {
      "cell_type": "code",
      "source": [
        "xgb_regressor = xgb.XGBRegressor(objective='reg:squarederror', random_state=42)\n",
        "rf_regressor = RandomForestRegressor(random_state=42)\n",
        "gb_regressor = GradientBoostingRegressor(random_state=42)"
      ],
      "metadata": {
        "id": "duHhVEKu9NJC"
      },
      "execution_count": 4,
      "outputs": []
    },
    {
      "cell_type": "code",
      "source": [
        "model_xgb = xgb_regressor.fit(X_train, y_train)\n",
        "model_rf = rf_regressor.fit(X_train, y_train)\n",
        "model_gb = gb_regressor.fit(X_train, y_train)"
      ],
      "metadata": {
        "id": "ib5tnuoT9QA1"
      },
      "execution_count": 5,
      "outputs": []
    },
    {
      "cell_type": "code",
      "source": [
        "y_pred_xgb = model_xgb.predict(X_test)\n",
        "y_pred_rf = model_rf.predict(X_test)\n",
        "y_pred_gb = model_gb.predict(X_test)"
      ],
      "metadata": {
        "id": "8cUtW4WR9SRr"
      },
      "execution_count": 6,
      "outputs": []
    },
    {
      "cell_type": "code",
      "source": [
        "mse_xgb = mean_squared_error(y_test, y_pred_xgb)\n",
        "mse_rf = mean_squared_error(y_test, y_pred_rf)\n",
        "mse_gb = mean_squared_error(y_test, y_pred_gb)\n",
        "\n",
        "print(\"Mean Squared Error for XGBRegressor: \", mse_xgb)\n",
        "print(\"Mean Squared Error for RandomForestRegressor: \", mse_rf)\n",
        "print(\"Mean Squared Error for GradientBoostingRegressor: \", mse_gb)"
      ],
      "metadata": {
        "id": "8pb7evda9UVs",
        "outputId": "e2dadba1-671e-42b6-ec9f-c5fcb5a98854",
        "colab": {
          "base_uri": "https://localhost:8080/"
        }
      },
      "execution_count": 7,
      "outputs": [
        {
          "output_type": "stream",
          "name": "stdout",
          "text": [
            "Mean Squared Error for XGBRegressor:  0.2225899267544737\n",
            "Mean Squared Error for RandomForestRegressor:  0.2553684927247781\n",
            "Mean Squared Error for GradientBoostingRegressor:  0.2939973248643864\n"
          ]
        }
      ]
    }
  ],
  "metadata": {
    "colab": {
      "name": "Welcome To Colab",
      "toc_visible": true,
      "provenance": [],
      "include_colab_link": true
    },
    "kernelspec": {
      "display_name": "Python 3",
      "name": "python3"
    }
  },
  "nbformat": 4,
  "nbformat_minor": 0
}